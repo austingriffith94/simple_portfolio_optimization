{
 "cells": [
  {
   "cell_type": "code",
   "execution_count": 1,
   "metadata": {},
   "outputs": [],
   "source": [
    "# Austin Griffith\n",
    "# Simple Portfolio Optimization\n",
    "# Python 3.6.3\n",
    "# 1/17/2018\n",
    "\n",
    "import pandas as pd\n",
    "import numpy as np\n",
    "from gurobipy import *\n",
    "import math\n",
    "import os\n",
    "import matplotlib.pyplot as plt\n",
    "\n",
    "# create directory for graphs\n",
    "name = 'data'\n",
    "if os.path.exists(name) == False:\n",
    "    os.makedirs(name)"
   ]
  },
  {
   "cell_type": "code",
   "execution_count": 2,
   "metadata": {},
   "outputs": [],
   "source": [
    "# read in monthly returns data\n",
    "path = 'C:/Git_Profile/simple_portfolio_optimization/'\n",
    "ret = pd.read_csv(path+'monthly_returns.csv')\n",
    "ret = ret.set_index('Unnamed: 0')\n",
    "ret = ret.reset_index(drop=True)\n",
    "\n",
    "# summary statistics of the data\n",
    "avg = ret.mean()\n",
    "std = ret.std()\n",
    "cov = ret.cov()"
   ]
  },
  {
   "cell_type": "code",
   "execution_count": 3,
   "metadata": {},
   "outputs": [
    {
     "name": "stdout",
     "output_type": "stream",
     "text": [
      "Average Returns\n",
      "AMZN     0.037707\n",
      "AXP      0.000661\n",
      "BA       0.022156\n",
      "GOOGL    0.017331\n",
      "HON      0.010696\n",
      "KO       0.002506\n",
      "MSFT     0.018021\n",
      "SPY      0.005301\n",
      "UNH      0.020032\n",
      "dtype: float64\n",
      "\n",
      "Std Deviation of Returns\n",
      "AMZN     0.071566\n",
      "AXP      0.058520\n",
      "BA       0.066432\n",
      "GOOGL    0.058753\n",
      "HON      0.031648\n",
      "KO       0.031361\n",
      "MSFT     0.069342\n",
      "SPY      0.027275\n",
      "UNH      0.040445\n",
      "dtype: float64\n",
      "\n",
      "Covariance Matrix of Returns\n",
      "           AMZN       AXP        BA     GOOGL       HON        KO      MSFT  \\\n",
      "AMZN   0.005122 -0.000138  0.001531  0.002591  0.000594  0.000730  0.001932   \n",
      "AXP   -0.000138  0.003425  0.001325 -0.000097  0.000403 -0.000113  0.000802   \n",
      "BA     0.001531  0.001325  0.004413  0.000909  0.000932  0.000544  0.000680   \n",
      "GOOGL  0.002591 -0.000097  0.000909  0.003452  0.000651  0.000997  0.002445   \n",
      "HON    0.000594  0.000403  0.000932  0.000651  0.001002  0.000452  0.000681   \n",
      "KO     0.000730 -0.000113  0.000544  0.000997  0.000452  0.000984  0.001200   \n",
      "MSFT   0.001932  0.000802  0.000680  0.002445  0.000681  0.001200  0.004808   \n",
      "SPY    0.000779  0.000749  0.000993  0.000796  0.000672  0.000442  0.001193   \n",
      "UNH   -0.000238  0.000575  0.001015 -0.000265  0.000524 -0.000014 -0.000388   \n",
      "\n",
      "            SPY       UNH  \n",
      "AMZN   0.000779 -0.000238  \n",
      "AXP    0.000749  0.000575  \n",
      "BA     0.000993  0.001015  \n",
      "GOOGL  0.000796 -0.000265  \n",
      "HON    0.000672  0.000524  \n",
      "KO     0.000442 -0.000014  \n",
      "MSFT   0.001193 -0.000388  \n",
      "SPY    0.000744  0.000368  \n",
      "UNH    0.000368  0.001636  \n"
     ]
    }
   ],
   "source": [
    "# outputting average and std deviation of returns\n",
    "# and covariance matrix\n",
    "print('Average Returns')\n",
    "print(avg)\n",
    "print('\\nStd Deviation of Returns')\n",
    "print(std)\n",
    "print('\\nCovariance Matrix of Returns')\n",
    "print(cov)"
   ]
  },
  {
   "cell_type": "code",
   "execution_count": 4,
   "metadata": {},
   "outputs": [],
   "source": [
    "# create new model for the minimum risk portfolio\n",
    "model = Model('min_risk')\n",
    "\n",
    "# labels and variables for each stock\n",
    "tickers = ret.columns\n",
    "variables = pd.Series(model.addVars(tickers),index=tickers)\n",
    "\n",
    "# determine the risk using the covariance matrix\n",
    "port_risk = cov.dot(variables).dot(variables)"
   ]
  },
  {
   "cell_type": "code",
   "execution_count": 5,
   "metadata": {},
   "outputs": [],
   "source": [
    "# set the model to minimize\n",
    "model.setObjective(port_risk,GRB.MINIMIZE)\n",
    "\n",
    "# constraints\n",
    "# weights add up to 1\n",
    "model.addConstr(variables.sum() == 1,'weights')\n",
    "model.update()\n",
    "# no shorting stocks(w >= 0)\n",
    "model.setParam('OutputFlag',0)\n",
    "model.update()\n",
    "\n",
    "# optimize model, finds minimum risk portfolio with constraints\n",
    "model.optimize()"
   ]
  },
  {
   "cell_type": "code",
   "execution_count": 6,
   "metadata": {},
   "outputs": [
    {
     "name": "stdout",
     "output_type": "stream",
     "text": [
      "\n",
      "Min Risk, Optimal Weights Per Stock\n",
      "AMZN     2.020708e-02\n",
      "AXP      7.662483e-02\n",
      "BA       6.980067e-08\n",
      "GOOGL    2.364396e-07\n",
      "HON      1.069820e-02\n",
      "KO       4.249617e-01\n",
      "MSFT     8.328121e-08\n",
      "SPY      2.212701e-01\n",
      "UNH      2.462377e-01\n",
      "Name: Weights, dtype: float64\n"
     ]
    }
   ],
   "source": [
    "# display variables and respective weights\n",
    "n = 0\n",
    "weights = {}\n",
    "for v in variables:\n",
    "    weights.update({tickers[n]:v.x})\n",
    "    n = n + 1\n",
    "weights = pd.DataFrame([weights])\n",
    "weights = weights.transpose()\n",
    "weights.columns = ['Weights']\n",
    "\n",
    "print('\\nMin Risk, Optimal Weights Per Stock')\n",
    "print(weights['Weights'])"
   ]
  },
  {
   "cell_type": "code",
   "execution_count": 7,
   "metadata": {},
   "outputs": [],
   "source": [
    "# organize dataframes\n",
    "main = pd.concat([avg,std,weights],axis=1)\n",
    "main.columns = ['Avg','Std','Weights']\n",
    "\n",
    "# save values to csv\n",
    "cov.to_csv(name+'/CovarianceRet.csv')\n",
    "main.to_csv(name+'/MinRiskPort.csv')"
   ]
  },
  {
   "cell_type": "code",
   "execution_count": 8,
   "metadata": {},
   "outputs": [
    {
     "name": "stdout",
     "output_type": "stream",
     "text": [
      "\n",
      "Minimized Portfolio Variance : 0.0005231075180047144\n",
      "Volatility : 0.022871543848300105\n",
      "Expected Return (Rmin) : 0.008097325139818624\n"
     ]
    }
   ],
   "source": [
    "# minimum risk values\n",
    "# optimal objective value\n",
    "print('\\nMinimized Portfolio Variance : '+str(port_risk.getValue()))\n",
    "# volatility\n",
    "min_vol = math.sqrt(port_risk.getValue())\n",
    "print('Volatility : '+str(min_vol))\n",
    "# expected return using optimized weights\n",
    "port_return = avg.dot(variables)\n",
    "Rmin = port_return.getValue()\n",
    "print('Expected Return (Rmin) : '+str(Rmin))"
   ]
  },
  {
   "cell_type": "code",
   "execution_count": 9,
   "metadata": {},
   "outputs": [
    {
     "name": "stdout",
     "output_type": "stream",
     "text": [
      "\n",
      "Efficient Frontier\n",
      "     Returns      Risk\n",
      "0   0.008097  0.022872\n",
      "1   0.008702  0.022886\n",
      "2   0.009306  0.022929\n",
      "3   0.009910  0.023000\n",
      "4   0.010514  0.023100\n",
      "5   0.011119  0.023227\n",
      "6   0.011723  0.023381\n",
      "7   0.012327  0.023562\n",
      "8   0.012931  0.023770\n",
      "9   0.013536  0.024011\n",
      "10  0.014140  0.024283\n",
      "11  0.014744  0.024582\n",
      "12  0.015349  0.024905\n",
      "13  0.015953  0.025251\n",
      "14  0.016557  0.025618\n",
      "15  0.017161  0.026007\n",
      "16  0.017766  0.026416\n",
      "17  0.018370  0.026844\n",
      "18  0.018974  0.027290\n",
      "19  0.019578  0.027753\n",
      "20  0.020183  0.028233\n",
      "21  0.020787  0.028729\n",
      "22  0.021391  0.029244\n",
      "23  0.021996  0.029778\n",
      "24  0.022600  0.030330\n",
      "25  0.023204  0.030899\n",
      "26  0.023808  0.031485\n",
      "27  0.024413  0.032095\n",
      "28  0.025017  0.032747\n",
      "29  0.025621  0.033507\n",
      "30  0.026225  0.034393\n",
      "31  0.026830  0.035395\n",
      "32  0.027434  0.036505\n",
      "33  0.028038  0.037713\n",
      "34  0.028642  0.039073\n",
      "35  0.029247  0.040595\n",
      "36  0.029851  0.042263\n",
      "37  0.030455  0.044060\n",
      "38  0.031060  0.045971\n",
      "39  0.031664  0.047982\n",
      "40  0.032268  0.050081\n",
      "41  0.032872  0.052257\n",
      "42  0.033477  0.054502\n",
      "43  0.034081  0.056807\n",
      "44  0.034685  0.059166\n",
      "45  0.035289  0.061571\n",
      "46  0.035894  0.064018\n",
      "47  0.036498  0.066502\n",
      "48  0.037102  0.069019\n",
      "49  0.037707  0.071566\n"
     ]
    }
   ],
   "source": [
    "# maximum return value among all stocks\n",
    "Rmax = avg.max()\n",
    "\n",
    "# return constraint\n",
    "target = model.addConstr(port_return == Rmin, 'target')\n",
    "\n",
    "# calculate values of efficient frontier\n",
    "# set right hand side of target value for returns\n",
    "# iterate through the range of returns from Rmin to Rmax\n",
    "eff = {}\n",
    "iterations = 50\n",
    "diff = (Rmax-Rmin)/(iterations-1)\n",
    "Rrange = np.arange(Rmin,Rmax+diff,diff)\n",
    "for r in Rrange:\n",
    "    target.rhs = r\n",
    "    model.optimize()\n",
    "    temp = math.sqrt(port_risk.getValue())\n",
    "    eff.update({temp:r})\n",
    "\n",
    "# organize dataframe for efficient frontier\n",
    "frontier = pd.DataFrame([eff]).transpose()\n",
    "frontier.columns = ['Returns']\n",
    "frontier['Risk'] = frontier.index\n",
    "frontier = frontier.reset_index(drop=True)\n",
    "\n",
    "# output and save values of efficient frontier\n",
    "print('\\nEfficient Frontier')\n",
    "print(frontier)\n",
    "frontier.to_csv(name+'/EffFrontier.csv')"
   ]
  },
  {
   "cell_type": "code",
   "execution_count": 10,
   "metadata": {},
   "outputs": [
    {
     "name": "stdout",
     "output_type": "stream",
     "text": [
      "\n",
      "Maximum Sharpe Ratio\n",
      "    Returns      Risk    Sharpe\n",
      "0  0.025621  0.033507  0.764654\n",
      "            Weights\n",
      "AMZN   3.251826e-01\n",
      "AXP    2.007443e-08\n",
      "BA     2.485391e-08\n",
      "GOOGL  1.306530e-07\n",
      "HON    1.396345e-07\n",
      "KO     5.939870e-08\n",
      "MSFT   7.867153e-02\n",
      "SPY    1.981066e-08\n",
      "UNH    5.961454e-01\n"
     ]
    }
   ],
   "source": [
    "# retrieve maximum sharpe value along efficient frontier\n",
    "frontier['Sharpe'] = frontier['Returns']/frontier['Risk']\n",
    "idx = frontier['Sharpe'].max()\n",
    "sharpeMax = frontier.loc[frontier['Sharpe'] == idx]\n",
    "sharpeMax = sharpeMax.reset_index(drop=True)\n",
    "\n",
    "# find max sharpe weights\n",
    "target.rhs = sharpeMax['Returns'][0]\n",
    "model.optimize()\n",
    "n = 0\n",
    "sharpe_weights = {}\n",
    "for v in variables:\n",
    "    sharpe_weights.update({tickers[n]:v.x})\n",
    "    n = n + 1\n",
    "sharpe_weights = pd.DataFrame([sharpe_weights])\n",
    "sharpe_weights = sharpe_weights.transpose()\n",
    "sharpe_weights.columns = ['Weights']\n",
    "\n",
    "# display and save max sharpe values\n",
    "print('\\nMaximum Sharpe Ratio')\n",
    "print(sharpeMax)\n",
    "print(sharpe_weights)\n",
    "sharpe_weights.to_csv(name+'/MaxSharpeWeights.csv')"
   ]
  },
  {
   "cell_type": "code",
   "execution_count": 12,
   "metadata": {},
   "outputs": [
    {
     "data": {
      "image/png": "[encoded data removed]",
      "text/plain": [
       "<matplotlib.figure.Figure at 0x1a048deb4e0>"
      ]
     },
     "metadata": {},
     "output_type": "display_data"
    }
   ],
   "source": [
    "# plot of the efficient frontier from Rmin to Rmax\n",
    "# initialize plot, set labels\n",
    "fig, ax = plt.subplots(nrows=1,ncols=1)\n",
    "fig.set_size_inches(16,9)\n",
    "ax.set_title('Efficient Frontier of a Portfolio',fontsize=20)\n",
    "ax.set_xlabel('Risk',fontsize=14)\n",
    "ax.set_ylabel('Return',fontsize=14)\n",
    "\n",
    "# plot the efficient frontier\n",
    "# do this first to allow individual points later on to overlay\n",
    "ax.scatter(x=frontier['Risk'],y=frontier['Returns'],color='orange',label='Efficient Frontier')\n",
    "ax.plot(x=frontier['Risk'],y=frontier['Returns'],color='orange')\n",
    "temp = pd.DataFrame([eff]).transpose()\n",
    "temp.columns = ['Efficient Frontier']\n",
    "temp.plot(color='orange',label='Efficient Frontier',ax=ax)\n",
    "\n",
    "# average return/volatility for each individual stock\n",
    "ax.scatter(x=std,y=avg,color='green',label='Stocks')\n",
    "i = 0\n",
    "for stock in tickers:\n",
    "    ax.annotate(stock,(std[i],avg[i]))\n",
    "    i = i + 1\n",
    "\n",
    "# show the minimum risk portfolio\n",
    "ax.scatter(x=min_vol,y=Rmin,color='blue',label='Optimal')\n",
    "ax.annotate('Min. Risk',(min_vol,Rmin))\n",
    "\n",
    "# show maximum sharpe value\n",
    "ax.scatter(x=sharpeMax['Risk'],y=sharpeMax['Returns'],color='red',label='Max Sharpe')\n",
    "ax.annotate('Max Sharpe',(sharpeMax['Risk'],sharpeMax['Returns']))\n",
    "\n",
    "# additional edits to the graph\n",
    "ax.grid()\n",
    "ax.legend(loc='upper left')\n",
    "fig.savefig(name+'/EfficientFrontier.png')"
   ]
  },
  {
   "cell_type": "code",
   "execution_count": null,
   "metadata": {},
   "outputs": [],
   "source": []
  }
 ],
 "metadata": {
  "kernelspec": {
   "display_name": "Python 3",
   "language": "python",
   "name": "python3"
  },
  "language_info": {
   "codemirror_mode": {
    "name": "ipython",
    "version": 3
   },
   "file_extension": ".py",
   "mimetype": "text/x-python",
   "name": "python",
   "nbconvert_exporter": "python",
   "pygments_lexer": "ipython3",
   "version": "3.6.4"
  }
 },
 "nbformat": 4,
 "nbformat_minor": 2
}
